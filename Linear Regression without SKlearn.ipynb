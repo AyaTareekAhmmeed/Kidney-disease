{
 "cells": [
  {
   "cell_type": "markdown",
   "id": "425dad67",
   "metadata": {},
   "source": [
    "Importing"
   ]
  },
  {
   "cell_type": "code",
   "execution_count": 2,
   "id": "6f3b7988",
   "metadata": {},
   "outputs": [],
   "source": [
    "import numpy as np\n",
    "import pandas as pd\n",
    "import matplotlib.pyplot as plt"
   ]
  },
  {
   "cell_type": "markdown",
   "id": "57b44199",
   "metadata": {},
   "source": [
    "Read data"
   ]
  },
  {
   "cell_type": "code",
   "execution_count": 3,
   "id": "b385663e",
   "metadata": {},
   "outputs": [],
   "source": [
    "data = pd.read_csv(\"diabetic_kidney_disease.csv\")"
   ]
  },
  {
   "cell_type": "code",
   "execution_count": 5,
   "id": "388d9810",
   "metadata": {},
   "outputs": [
    {
     "data": {
      "text/html": [
       "<div>\n",
       "<style scoped>\n",
       "    .dataframe tbody tr th:only-of-type {\n",
       "        vertical-align: middle;\n",
       "    }\n",
       "\n",
       "    .dataframe tbody tr th {\n",
       "        vertical-align: top;\n",
       "    }\n",
       "\n",
       "    .dataframe thead th {\n",
       "        text-align: right;\n",
       "    }\n",
       "</style>\n",
       "<table border=\"1\" class=\"dataframe\">\n",
       "  <thead>\n",
       "    <tr style=\"text-align: right;\">\n",
       "      <th></th>\n",
       "      <th>FBG (mg/dL)</th>\n",
       "      <th>HbA1C (%)</th>\n",
       "      <th>Total cholesterol (mg/dL)</th>\n",
       "      <th>UACR (mg/g creatinine)</th>\n",
       "    </tr>\n",
       "  </thead>\n",
       "  <tbody>\n",
       "    <tr>\n",
       "      <th>0</th>\n",
       "      <td>140</td>\n",
       "      <td>8.7</td>\n",
       "      <td>144</td>\n",
       "      <td>16.0</td>\n",
       "    </tr>\n",
       "    <tr>\n",
       "      <th>1</th>\n",
       "      <td>135</td>\n",
       "      <td>7.5</td>\n",
       "      <td>170</td>\n",
       "      <td>8.0</td>\n",
       "    </tr>\n",
       "    <tr>\n",
       "      <th>2</th>\n",
       "      <td>140</td>\n",
       "      <td>8.0</td>\n",
       "      <td>180</td>\n",
       "      <td>23.0</td>\n",
       "    </tr>\n",
       "    <tr>\n",
       "      <th>3</th>\n",
       "      <td>190</td>\n",
       "      <td>14.0</td>\n",
       "      <td>122</td>\n",
       "      <td>38.0</td>\n",
       "    </tr>\n",
       "    <tr>\n",
       "      <th>4</th>\n",
       "      <td>250</td>\n",
       "      <td>13.5</td>\n",
       "      <td>167</td>\n",
       "      <td>21.0</td>\n",
       "    </tr>\n",
       "  </tbody>\n",
       "</table>\n",
       "</div>"
      ],
      "text/plain": [
       "   FBG (mg/dL)  HbA1C (%)  Total cholesterol (mg/dL)  UACR (mg/g creatinine)\n",
       "0          140        8.7                        144                    16.0\n",
       "1          135        7.5                        170                     8.0\n",
       "2          140        8.0                        180                    23.0\n",
       "3          190       14.0                        122                    38.0\n",
       "4          250       13.5                        167                    21.0"
      ]
     },
     "execution_count": 5,
     "metadata": {},
     "output_type": "execute_result"
    }
   ],
   "source": [
    "#showing data\n",
    "data.head()"
   ]
  },
  {
   "cell_type": "code",
   "execution_count": 4,
   "id": "3e376749",
   "metadata": {},
   "outputs": [
    {
     "name": "stdout",
     "output_type": "stream",
     "text": [
      "corration between two columns is :                            FBG (mg/dL)  HbA1C (%)  Total cholesterol (mg/dL)  \\\n",
      "FBG (mg/dL)                   1.000000   0.652232                   0.204638   \n",
      "HbA1C (%)                     0.652232   1.000000                  -0.115567   \n",
      "Total cholesterol (mg/dL)     0.204638  -0.115567                   1.000000   \n",
      "UACR (mg/g creatinine)        0.750670   0.519524                   0.117065   \n",
      "\n",
      "                           UACR (mg/g creatinine)  \n",
      "FBG (mg/dL)                              0.750670  \n",
      "HbA1C (%)                                0.519524  \n",
      "Total cholesterol (mg/dL)                0.117065  \n",
      "UACR (mg/g creatinine)                   1.000000  \n"
     ]
    }
   ],
   "source": [
    "print(\"corration between two columns is :\", data.corr()) #showing relation between each columns"
   ]
  },
  {
   "cell_type": "code",
   "execution_count": 6,
   "id": "91be9f2b",
   "metadata": {},
   "outputs": [
    {
     "name": "stdout",
     "output_type": "stream",
     "text": [
      "Data : <bound method NDFrame.head of      FBG (mg/dL)  HbA1C (%)  Total cholesterol (mg/dL)  UACR (mg/g creatinine)\n",
      "0            140        8.7                        144                    16.0\n",
      "1            135        7.5                        170                     8.0\n",
      "2            140        8.0                        180                    23.0\n",
      "3            190       14.0                        122                    38.0\n",
      "4            250       13.5                        167                    21.0\n",
      "..           ...        ...                        ...                     ...\n",
      "105          300       11.4                        217                   200.0\n",
      "106          130        7.0                        104                     5.0\n",
      "107          250       11.0                        132                    89.0\n",
      "108          170        8.0                        175                    10.1\n",
      "109          200        8.4                        187                    66.4\n",
      "\n",
      "[110 rows x 4 columns]>\n",
      "------------------------\n",
      "Data describe :        FBG (mg/dL)   HbA1C (%)  Total cholesterol (mg/dL)  \\\n",
      "count   110.000000  110.000000                 110.000000   \n",
      "mean    201.472727    9.804545                 167.445455   \n",
      "std      67.849092    2.394772                  36.478368   \n",
      "min     100.000000    5.800000                 100.000000   \n",
      "25%     150.000000    8.000000                 134.000000   \n",
      "50%     187.500000    9.250000                 166.500000   \n",
      "75%     250.000000   10.975000                 200.000000   \n",
      "max     400.000000   16.800000                 247.000000   \n",
      "\n",
      "       UACR (mg/g creatinine)  \n",
      "count               110.00000  \n",
      "mean                 47.60000  \n",
      "std                  63.67512  \n",
      "min                   4.60000  \n",
      "25%                   8.62500  \n",
      "50%                  20.25000  \n",
      "75%                  58.75000  \n",
      "max                 264.00000  \n",
      "------------------------\n"
     ]
    }
   ],
   "source": [
    "#showing data details\n",
    "print(\"Data :\",data.head)\n",
    "print(\"------------------------\")\n",
    "print(\"Data describe :\",data.describe())\n",
    "print(\"------------------------\")"
   ]
  },
  {
   "cell_type": "code",
   "execution_count": 7,
   "id": "276b4ca1",
   "metadata": {},
   "outputs": [
    {
     "data": {
      "text/plain": [
       "<AxesSubplot:xlabel='FBG (mg/dL)', ylabel='UACR (mg/g creatinine)'>"
      ]
     },
     "execution_count": 7,
     "metadata": {},
     "output_type": "execute_result"
    },
    {
     "data": {
      "image/png": "[encoded data removed]",
      "text/plain": [
       "<Figure size 360x360 with 1 Axes>"
      ]
     },
     "metadata": {
      "needs_background": "light"
     },
     "output_type": "display_data"
    }
   ],
   "source": [
    "#draw data\n",
    "data.plot(kind='scatter', x='FBG (mg/dL)',y='UACR (mg/g creatinine)', figsize=(5,5)) #scatter mean data showes as points &FBG,UACR are names for x axis and y axis 'relation between 1st column and last one' &figsize for size 5*5 "
   ]
  },
  {
   "cell_type": "code",
   "execution_count": 8,
   "id": "78d67021",
   "metadata": {},
   "outputs": [
    {
     "name": "stdout",
     "output_type": "stream",
     "text": [
      "New data : \n",
      "    FBG (mg/dL)  Ones  HbA1C (%)  Total cholesterol (mg/dL)  \\\n",
      "0          140     1        8.7                        144   \n",
      "1          135     1        7.5                        170   \n",
      "2          140     1        8.0                        180   \n",
      "3          190     1       14.0                        122   \n",
      "4          250     1       13.5                        167   \n",
      "5          120     1        8.9                        200   \n",
      "6          200     1       15.0                        165   \n",
      "7          110     1       10.0                        120   \n",
      "8          180     1       15.0                        143   \n",
      "9          150     1        9.1                        110   \n",
      "\n",
      "   UACR (mg/g creatinine)  \n",
      "0                    16.0  \n",
      "1                     8.0  \n",
      "2                    23.0  \n",
      "3                    38.0  \n",
      "4                    21.0  \n",
      "5                     6.5  \n",
      "6                    42.5  \n",
      "7                    27.0  \n",
      "8                    51.0  \n",
      "9                    16.0  \n"
     ]
    }
   ],
   "source": [
    "#adding a new column called ones at the beganing of data at index 1\n",
    "#ones column is X0 to make linear equation correct\n",
    "data.insert(1,'Ones',1) #first 1 for index of column and 'ones' for name of column last 1 for what column contain\n",
    "print('New data : \\n',data.head(10))"
   ]
  },
  {
   "cell_type": "code",
   "execution_count": 11,
   "id": "e3c23098",
   "metadata": {},
   "outputs": [
    {
     "name": "stdout",
     "output_type": "stream",
     "text": [
      "X data /n <bound method NDFrame.head of      FBG (mg/dL)  Ones\n",
      "0            140     1\n",
      "1            135     1\n",
      "2            140     1\n",
      "3            190     1\n",
      "4            250     1\n",
      "..           ...   ...\n",
      "105          300     1\n",
      "106          130     1\n",
      "107          250     1\n",
      "108          170     1\n",
      "109          200     1\n",
      "\n",
      "[110 rows x 2 columns]>\n",
      "Y data /n <bound method NDFrame.head of 0       16.0\n",
      "1        8.0\n",
      "2       23.0\n",
      "3       38.0\n",
      "4       21.0\n",
      "       ...  \n",
      "105    200.0\n",
      "106      5.0\n",
      "107     89.0\n",
      "108     10.1\n",
      "109     66.4\n",
      "Name: UACR (mg/g creatinine), Length: 110, dtype: float64>\n"
     ]
    }
   ],
   "source": [
    "#seperate data into x(training data), y(target variables)\n",
    "x = data.iloc[:,[0,1]] #read all rows in columns 0,1\n",
    "y = data.iloc[:,-1] #read all rows in last column\n",
    "print(\"X data /n\",x.head)\n",
    "print(\"Y data /n\",y.head)"
   ]
  },
  {
   "cell_type": "code",
   "execution_count": 15,
   "id": "019f4f39",
   "metadata": {},
   "outputs": [
    {
     "name": "stdout",
     "output_type": "stream",
     "text": [
      "X data :\n",
      "    FBG (mg/dL)  Ones\n",
      "0     0.133333     1\n",
      "1     0.116667     1\n",
      "2     0.133333     1\n",
      "3     0.300000     1\n",
      "4     0.500000     1\n"
     ]
    },
    {
     "name": "stderr",
     "output_type": "stream",
     "text": [
      "C:\\Users\\10-Me22\\anaconda1\\lib\\site-packages\\pandas\\core\\indexing.py:1676: SettingWithCopyWarning: \n",
      "A value is trying to be set on a copy of a slice from a DataFrame.\n",
      "Try using .loc[row_indexer,col_indexer] = value instead\n",
      "\n",
      "See the caveats in the documentation: https://pandas.pydata.org/pandas-docs/stable/user_guide/indexing.html#returning-a-view-versus-a-copy\n",
      "  self._setitem_single_column(ilocs[0], value, pi)\n"
     ]
    }
   ],
   "source": [
    "#normalizing traning data 'important step' \n",
    "minValue = x.iloc[:,0].min() #only make normalization for firest column in x cuz second column ix X0 =1\n",
    "maxValue = x.iloc[:,0].max()\n",
    "\n",
    "x.iloc[:,0]=(x.iloc[:,0]-minValue)/(maxValue-minValue)\n",
    "\n",
    "print(\"X data :\\n\", x.head())"
   ]
  },
  {
   "cell_type": "code",
   "execution_count": 16,
   "id": "d3e95712",
   "metadata": {},
   "outputs": [
    {
     "name": "stdout",
     "output_type": "stream",
     "text": [
      "X \n",
      " [[0.13333333 1.        ]\n",
      " [0.11666667 1.        ]\n",
      " [0.13333333 1.        ]\n",
      " [0.3        1.        ]\n",
      " [0.5        1.        ]\n",
      " [0.06666667 1.        ]\n",
      " [0.33333333 1.        ]\n",
      " [0.03333333 1.        ]\n",
      " [0.26666667 1.        ]\n",
      " [0.16666667 1.        ]\n",
      " [0.2        1.        ]\n",
      " [0.13333333 1.        ]\n",
      " [0.3        1.        ]\n",
      " [0.16666667 1.        ]\n",
      " [0.08333333 1.        ]\n",
      " [0.66666667 1.        ]\n",
      " [0.15       1.        ]\n",
      " [0.26666667 1.        ]\n",
      " [0.6        1.        ]\n",
      " [0.4        1.        ]\n",
      " [0.66666667 1.        ]\n",
      " [0.03333333 1.        ]\n",
      " [0.06666667 1.        ]\n",
      " [0.1        1.        ]\n",
      " [0.26666667 1.        ]\n",
      " [0.1        1.        ]\n",
      " [0.18333333 1.        ]\n",
      " [0.26666667 1.        ]\n",
      " [0.16666667 1.        ]\n",
      " [0.66666667 1.        ]\n",
      " [0.16666667 1.        ]\n",
      " [0.36666667 1.        ]\n",
      " [0.33333333 1.        ]\n",
      " [0.3        1.        ]\n",
      " [0.13333333 1.        ]\n",
      " [0.33333333 1.        ]\n",
      " [0.36666667 1.        ]\n",
      " [0.66666667 1.        ]\n",
      " [0.23333333 1.        ]\n",
      " [0.25       1.        ]\n",
      " [0.66666667 1.        ]\n",
      " [0.05       1.        ]\n",
      " [0.06666667 1.        ]\n",
      " [0.03333333 1.        ]\n",
      " [0.21666667 1.        ]\n",
      " [0.5        1.        ]\n",
      " [0.2        1.        ]\n",
      " [0.33333333 1.        ]\n",
      " [0.2        1.        ]\n",
      " [0.28333333 1.        ]\n",
      " [0.66666667 1.        ]\n",
      " [0.23333333 1.        ]\n",
      " [0.5        1.        ]\n",
      " [0.43333333 1.        ]\n",
      " [0.46666667 1.        ]\n",
      " [0.41666667 1.        ]\n",
      " [0.66666667 1.        ]\n",
      " [0.26666667 1.        ]\n",
      " [0.16666667 1.        ]\n",
      " [0.12666667 1.        ]\n",
      " [0.58333333 1.        ]\n",
      " [0.31666667 1.        ]\n",
      " [0.56666667 1.        ]\n",
      " [0.5        1.        ]\n",
      " [0.33333333 1.        ]\n",
      " [0.33333333 1.        ]\n",
      " [0.16666667 1.        ]\n",
      " [0.5        1.        ]\n",
      " [0.33333333 1.        ]\n",
      " [0.16666667 1.        ]\n",
      " [0.9        1.        ]\n",
      " [0.16666667 1.        ]\n",
      " [0.33333333 1.        ]\n",
      " [0.5        1.        ]\n",
      " [0.16666667 1.        ]\n",
      " [0.93333333 1.        ]\n",
      " [0.33333333 1.        ]\n",
      " [0.24666667 1.        ]\n",
      " [0.5        1.        ]\n",
      " [0.83333333 1.        ]\n",
      " [0.2        1.        ]\n",
      " [0.5        1.        ]\n",
      " [0.83333333 1.        ]\n",
      " [0.26666667 1.        ]\n",
      " [0.33333333 1.        ]\n",
      " [0.33333333 1.        ]\n",
      " [0.33333333 1.        ]\n",
      " [0.16666667 1.        ]\n",
      " [0.26666667 1.        ]\n",
      " [0.98333333 1.        ]\n",
      " [0.25       1.        ]\n",
      " [0.33333333 1.        ]\n",
      " [0.63333333 1.        ]\n",
      " [0.25       1.        ]\n",
      " [0.13333333 1.        ]\n",
      " [0.2        1.        ]\n",
      " [0.06666667 1.        ]\n",
      " [0.         1.        ]\n",
      " [0.33333333 1.        ]\n",
      " [0.66666667 1.        ]\n",
      " [0.66666667 1.        ]\n",
      " [0.38333333 1.        ]\n",
      " [0.13333333 1.        ]\n",
      " [0.21666667 1.        ]\n",
      " [1.         1.        ]\n",
      " [0.66666667 1.        ]\n",
      " [0.1        1.        ]\n",
      " [0.5        1.        ]\n",
      " [0.23333333 1.        ]\n",
      " [0.33333333 1.        ]]\n",
      "X shape \n",
      " (110, 2)\n",
      "theta \n",
      " [0 0]\n",
      "theta shape \n",
      " (2,)\n",
      "Y \n",
      " [ 16.    8.   23.   38.   21.    6.5  42.5  27.   51.   16.   10.8   9.\n",
      "  48.5  22.5  12.   36.    8.   14.   65.   46.    7.5  27.8  15.   28.\n",
      "  29.5  21.   20.5  24.   41.5  26.5  18.   55.    8.5  37.   16.   39.5\n",
      " 187.    7.9  16.   11.5  60.   12.    9.   27.   28.   87.   25.   15.5\n",
      "  20.  125.   26.   14.   91.5  78.   87.   70.  137.   21.   15.    7.\n",
      " 108.   67.  126.   10.    5.2   7.6   6.   26.   10.    6.6 217.   18.\n",
      "   7.   96.    8.2 242.    6.9   5.  116.5 230.    7.9 100.  238.    5.5\n",
      "   6.    5.3   6.    8.5  10.6 258.   10.    7.  130.   11.    6.2   8.5\n",
      "   5.    4.6  10.7 228.    9.9  77.    6.1   9.2 264.  200.    5.   89.\n",
      "  10.1  66.4]\n",
      "Y.shape \n",
      " (110,)\n"
     ]
    }
   ],
   "source": [
    "#convert from data frame to numpy matrics 'convert data from list to array'\n",
    "x = np.array(x)\n",
    "y = np.array(y).flatten() #using flatten to make y one vector\n",
    "theta = np.array([0,0]) #theta means theta0 &theta1 that I use in linear equation\n",
    "\n",
    "print(\"X \\n\", x)\n",
    "print('X shape \\n', x.shape)\n",
    "print('theta \\n', theta)\n",
    "print('theta shape \\n', theta.shape)\n",
    "print(\"Y \\n\", y)\n",
    "print('Y.shape \\n', y.shape)"
   ]
  },
  {
   "cell_type": "code",
   "execution_count": 24,
   "id": "0a8d93d0",
   "metadata": {},
   "outputs": [],
   "source": [
    "#cost function\n",
    "#number of training examples\n",
    "m = len(y) #m is number of rows can take it from len(x) or len(y)\n",
    "def cost_function(x, y, theta):\n",
    "    #calculate cost with given parameter\n",
    "    j = np.sum((x.dot(theta)-y)**2)/2/m #sum (theta0 *X0 +theta1*X1-y)^2\n",
    "    return j\n"
   ]
  },
  {
   "cell_type": "code",
   "execution_count": 25,
   "id": "ee271748",
   "metadata": {},
   "outputs": [
    {
     "name": "stdout",
     "output_type": "stream",
     "text": [
      "3141.7108181818176\n"
     ]
    }
   ],
   "source": [
    "#first run for function\n",
    "cost1 = cost_function(x,y,theta)\n",
    "print(cost1)"
   ]
  },
  {
   "cell_type": "code",
   "execution_count": 31,
   "id": "57e16f54",
   "metadata": {},
   "outputs": [],
   "source": [
    "#set itration and alpha\n",
    "iterations =1000\n",
    "alpha = 0.00001"
   ]
  },
  {
   "cell_type": "code",
   "execution_count": 33,
   "id": "fdbf1145",
   "metadata": {},
   "outputs": [],
   "source": [
    "#Geadient Desent 'GD' function\n",
    "def gradirnt_descent(x, y, theta, alpha, iterations):\n",
    "    cost_history = [0] * iterations #list to put cost function on it\n",
    "    for iteration in range(iterations): #iteration loops 1000 time 0:999\n",
    "        hypothesis = x.dot(theta)  #first i want to get hypothesis function \"theta0*X0 +theta1*X1\" 1st\n",
    "        loss = hypothesis-y #means 'theta0*X0 +theta1*X1-y' 2nd\n",
    "        gradient = x.T.dot(loss)/m  #means \"(theta0*X0 +theta1*X1-y)*x /m\" 3rd\n",
    "        theta = theta - (alpha*gradient) # alpha*gradient is last step in grident descent equation 4rd then I calculate new theta0 and theta1\n",
    "        cost = cost_function(x, y, theta) #here we calculate cost agan to know errore rate reduced or no\n",
    "        cost_history[iteration] = cost #here i store cost to knoe whay happend whether it reduced or not at evrey itration\n",
    "        \n",
    "    return theta, cost_history "
   ]
  },
  {
   "cell_type": "code",
   "execution_count": 34,
   "id": "ee5047fc",
   "metadata": {},
   "outputs": [
    {
     "name": "stdout",
     "output_type": "stream",
     "text": [
      "[0.26710297 0.47317992]\n"
     ]
    }
   ],
   "source": [
    "#perform gradient descent to 'fit' the model parameters\n",
    "(t, c) = gradirnt_descent(x, y, theta, alpha, iterations)\n",
    "\n",
    "#print theta parameyters\n",
    "print(t) #[theta0, theta1]"
   ]
  },
  {
   "cell_type": "code",
   "execution_count": 36,
   "id": "2e769d44",
   "metadata": {},
   "outputs": [
    {
     "name": "stderr",
     "output_type": "stream",
     "text": [
      "No handles with labels found to put in legend.\n"
     ]
    },
    {
     "data": {
      "image/png": "[encoded data removed]",
      "text/plain": [
       "<Figure size 720x432 with 1 Axes>"
      ]
     },
     "metadata": {
      "needs_background": "light"
     },
     "output_type": "display_data"
    }
   ],
   "source": [
    "#get best fit line\n",
    "best_fit_x = np.linspace(0,400, 400)\n",
    "best_fit_y = [t[1] + t[0]*xx for xx in best_fit_x] #t1 represent theta0 cuz I put X0 at index1 & t0*xx represent features\n",
    "\n",
    "#plotting best fit line\n",
    "plt.figure(figsize=(10,6))\n",
    "plt.plot(data.iloc[:,0],y , '.') #drow relation between ferst column of x and y (as dots'.')\n",
    "plt.plot(best_fit_x, best_fit_y, '-') #to drow best fit line for data (as dashes'-')\n",
    "\n",
    "#some extra info\n",
    "plt.xlabel('EBG')\n",
    "plt.ylabel('UACR')\n",
    "plt.title('EDG vs. UACR with linear regretion line')\n",
    "plt.legend(loc=1, prop={'size': 15}) \n",
    "plt.show()"
   ]
  }
 ],
 "metadata": {
  "kernelspec": {
   "display_name": "Python 3",
   "language": "python",
   "name": "python3"
  },
  "language_info": {
   "codemirror_mode": {
    "name": "ipython",
    "version": 3
   },
   "file_extension": ".py",
   "mimetype": "text/x-python",
   "name": "python",
   "nbconvert_exporter": "python",
   "pygments_lexer": "ipython3",
   "version": "3.8.8"
  }
 },
 "nbformat": 4,
 "nbformat_minor": 5
}
